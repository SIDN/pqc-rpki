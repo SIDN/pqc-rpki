{
 "cells": [
  {
   "cell_type": "markdown",
   "id": "b6592ca6",
   "metadata": {},
   "source": [
    "# Measurement of verification CPU time\n",
    "\n",
    "This notebook processes the time measurements from validating a snapshot of the RPKI using Routinator, and using a modified Routinator that skips signature verifications. These numbers are used in table 4.2 of the thesis."
   ]
  },
  {
   "cell_type": "code",
   "execution_count": 6,
   "id": "288c54b2",
   "metadata": {},
   "outputs": [
    {
     "name": "stdout",
     "output_type": "stream",
     "text": [
      "No Verification - User Time:\n",
      "{'median': np.float64(5.3), 'mean': np.float64(5.213333333333334), 'stddev': np.float64(0.23214640643996304)}\n",
      "\n",
      "Verification - User Time:\n",
      "{'median': np.float64(18.505), 'mean': np.float64(18.206666666666667), 'stddev': np.float64(0.7396799556440671)}\n"
     ]
    }
   ],
   "source": [
    "import pandas as pd\n",
    "\n",
    "# Load the CSV files\n",
    "df_noverif = pd.read_csv('times-noverification.csv')\n",
    "df_verif = pd.read_csv('times-verification.csv')\n",
    "\n",
    "# Calculate statistics for 'User' time\n",
    "stats_noverif = {\n",
    "    'median': df_noverif['User'].median(),\n",
    "    'mean': df_noverif['User'].mean(),\n",
    "    'stddev': df_noverif['User'].std()\n",
    "}\n",
    "\n",
    "stats_verif = {\n",
    "    'median': df_verif['User'].median(),\n",
    "    'mean': df_verif['User'].mean(),\n",
    "    'stddev': df_verif['User'].std()\n",
    "}\n",
    "\n",
    "print(\"No Verification - User Time:\")\n",
    "print(stats_noverif)\n",
    "print(\"\\nVerification - User Time:\")\n",
    "print(stats_verif)"
   ]
  }
 ],
 "metadata": {
  "kernelspec": {
   "display_name": ".venv",
   "language": "python",
   "name": "python3"
  },
  "language_info": {
   "codemirror_mode": {
    "name": "ipython",
    "version": 3
   },
   "file_extension": ".py",
   "mimetype": "text/x-python",
   "name": "python",
   "nbconvert_exporter": "python",
   "pygments_lexer": "ipython3",
   "version": "3.13.2"
  }
 },
 "nbformat": 4,
 "nbformat_minor": 5
}
