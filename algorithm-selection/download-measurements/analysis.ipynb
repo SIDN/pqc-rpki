{
 "cells": [
  {
   "cell_type": "markdown",
   "id": "2bc68451",
   "metadata": {},
   "source": [
    "# Measuring RRDP bandwidth\n",
    "\n",
    "This analyses the bandwidth measurements from Appendix A. The input files are gathered as follows:\n",
    "\n",
    "```bash\n",
    "\n",
    "cargo install \\\n",
    "    --git https://github.com/SIDN/pqc-routinator \\\n",
    "    --branch measuring-rrdp-bandwidth routinator --locked\n",
    "\n",
    "for i in {1..10} ; do \n",
    "    /usr/bin/time -f \"%e, %U, %S\" -a -o update_time.csv \\\n",
    "        routinator \\\n",
    "            -v --logfile \"timing_${i}.log\" \\\n",
    "            --fresh --disable-rsync --rrdp-connect-timeout 30 update;\n",
    "    # Extract content sizes of RPKI objects in snapshots.\n",
    "    cat timing_${i}.log \\\n",
    "        | grep \"size: \" \\\n",
    "        | jq -Rs '\n",
    "            split(\"\\n[\") | [\n",
    "                .[] | split(\", \") | {\n",
    "                    size: (.[0] | split(\"size: \") | .[1] | tonumber), \n",
    "                    session: .[2], \n",
    "                    serial: (.[3] | tonumber)\n",
    "                } \n",
    "            ]\n",
    "        ' > snapshots_${i}.json; \n",
    "    # Extract timing of HTTP requests.\n",
    "    cat timing_${i}.log \\\n",
    "        | grep \"timing: \" \\\n",
    "        | jq -Rs '\n",
    "            split(\"\\n[\") | [\n",
    "                .[] | split(\", \") | {\n",
    "                    url: (.[0] | split(\"timing: \") | .[1]), \n",
    "                    time: (.[1] | tonumber)\n",
    "                } \n",
    "            ]\n",
    "        ' > timings_${i}.json; \n",
    "    echo \"Done with run $i.\"; \n",
    "done\n",
    "```"
   ]
  },
  {
   "cell_type": "code",
   "execution_count": 1,
   "id": "b81651ed",
   "metadata": {},
   "outputs": [],
   "source": [
    "import json\n",
    "\n",
    "from statistics import mean, stdev, median\n",
    "\n",
    "data = {\"runs\": []}\n",
    "for i in range(1, 11):\n",
    "    with open(f\"snapshots_{i}.json\") as f:\n",
    "        snapshots = json.load(f)\n",
    "    with open(f\"timings_{i}.json\") as f:\n",
    "        timings = json.load(f)\n",
    "\n",
    "    snap_times = [t for t in timings if \"snapshot\" in t[\"url\"]]\n",
    "    for snap in snapshots:\n",
    "        matching = [t for t in snap_times if snap[\"session\"] in t[\"url\"]]\n",
    "        if len(matching) == 1:\n",
    "            snap[\"url\"] = matching[0][\"url\"]\n",
    "            snap[\"time\"] = matching[0][\"time\"]\n",
    "\n",
    "    data[\"runs\"].append({\n",
    "        \"snapshots\": [{\"url\": snap[\"url\"], \"size\": snap[\"size\"], \"time\": snap[\"time\"]} for snap in snapshots],\n",
    "        \"total_time_snapshots\": sum(snap[\"time\"] for snap in snapshots),\n",
    "        \"total_time_all\": sum(t[\"time\"] for t in timings),\n",
    "        \"total_size_snapshots\": sum(snap[\"size\"] for snap in snapshots),\n",
    "\t\"max_snapshot_size\": max(snap[\"size\"] for snap in snapshots),\n",
    "\t\"max_snapshot_time\": max(snap[\"time\"] for snap in snapshots),\n",
    "\t\"med_snapshot_size\": median(snap[\"size\"] for snap in snapshots),\n",
    "\t\"med_snapshot_time\": median(snap[\"time\"] for snap in snapshots),\n",
    "    })\n",
    "\n",
    "data.update({\n",
    "    \"avg_time_snapshots\": mean([run[\"total_time_snapshots\"] for run in data[\"runs\"]]),\n",
    "    \"std_time_snapshots\": stdev([run[\"total_time_snapshots\"] for run in data[\"runs\"]]),\n",
    "    \"avg_time_notifications\": mean([run[\"total_time_all\"] - run[\"total_time_snapshots\"] for run in data[\"runs\"]]),\n",
    "    \"std_time_notifications\": stdev([run[\"total_time_all\"] - run[\"total_time_snapshots\"] for run in data[\"runs\"]]),\n",
    "    \"avg_time_all\": mean([run[\"total_time_all\"] for run in data[\"runs\"]]),\n",
    "    \"std_time_all\": stdev([run[\"total_time_all\"] for run in data[\"runs\"]]),\n",
    "    \"avg_size_snapshots\": mean([run[\"total_size_snapshots\"] for run in data[\"runs\"]]),\n",
    "    \"std_size_snapshots\": stdev([run[\"total_size_snapshots\"] for run in data[\"runs\"]]),\n",
    "})"
   ]
  },
  {
   "cell_type": "code",
   "execution_count": 2,
   "id": "f9c28904",
   "metadata": {},
   "outputs": [
    {
     "name": "stdout",
     "output_type": "stream",
     "text": [
      "   wall (s)  user (s)  system (s)\n",
      "0    341.30    103.36      194.66\n",
      "1    326.51     95.43      180.51\n",
      "2    298.97     94.46      177.63\n",
      "3    308.17     95.16      179.45\n",
      "4    341.22     95.06      179.77\n",
      "5    320.47     94.69      179.42\n",
      "6    325.94     95.42      180.17\n",
      "7    317.30     94.94      176.78\n",
      "8    336.33     95.83      180.29\n",
      "9    323.14     95.28      179.43\n"
     ]
    }
   ],
   "source": [
    "import pandas as pd\n",
    "\n",
    "df = pd.read_csv(\"update_time.csv\", header=None, names=[\"wall (s)\", \"user (s)\", \"system (s)\"])\n",
    "print(df)"
   ]
  },
  {
   "cell_type": "code",
   "execution_count": 3,
   "id": "3693dac8",
   "metadata": {},
   "outputs": [
    {
     "name": "stdout",
     "output_type": "stream",
     "text": [
      "Measurement\tMean time (s)\tStd. dev. (s)\n",
      "Snapshots\t14.5\t\t1.5\n",
      "Notifications\t29.5\t\t5.6\n",
      "Total wall time\t323.9\t\t13.7\n"
     ]
    }
   ],
   "source": [
    "print(\"Measurement\\tMean time (s)\\tStd. dev. (s)\")\n",
    "print(\"Snapshots\\t{:.1f}\\t\\t{:.1f}\".format(data[\"avg_time_snapshots\"]/1_000_000, data[\"std_time_snapshots\"]/1_000_000))\n",
    "print(\"Notifications\\t{:.1f}\\t\\t{:.1f}\".format(data[\"avg_time_notifications\"]/1_000_000, data[\"std_time_notifications\"]/1_000_000))\n",
    "print(\"Total wall time\\t{:.1f}\\t\\t{:.1f}\".format(df[\"wall (s)\"].mean(), df[\"wall (s)\"].std()))"
   ]
  }
 ],
 "metadata": {
  "kernelspec": {
   "display_name": ".venv",
   "language": "python",
   "name": "python3"
  },
  "language_info": {
   "codemirror_mode": {
    "name": "ipython",
    "version": 3
   },
   "file_extension": ".py",
   "mimetype": "text/x-python",
   "name": "python",
   "nbconvert_exporter": "python",
   "pygments_lexer": "ipython3",
   "version": "3.13.2"
  }
 },
 "nbformat": 4,
 "nbformat_minor": 5
}
